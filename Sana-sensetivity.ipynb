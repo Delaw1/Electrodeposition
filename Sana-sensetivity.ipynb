{
 "cells": [
  {
   "cell_type": "code",
   "execution_count": 1,
   "id": "414489ae",
   "metadata": {},
   "outputs": [],
   "source": [
    "from ipywidgets import widgets, interact, fixed\n",
    "from IPython.display import display\n",
    "%matplotlib inline\n",
    "import seaborn as sbn\n",
    "import pandas as pd\n",
    "import matplotlib.pyplot as plt\n",
    "import numpy as np\n",
    "from scipy.integrate import solve_ivp\n",
    "from IPython.core.pylabtools import figsize\n",
    "import scipy\n",
    "import scipy.interpolate\n",
    "from contextlib import redirect_stdout\n",
    "from CoolProp import CoolProp\n",
    "figsize(12, 10)\n",
    "sbn.set_context(\"talk\", font_scale=1)"
   ]
  },
  {
   "cell_type": "code",
   "execution_count": 2,
   "id": "ed252866",
   "metadata": {},
   "outputs": [
    {
     "name": "stdout",
     "output_type": "stream",
     "text": [
      "Requirement already satisfied: coolprop in /Users/sanaheydarian/anaconda3/lib/python3.11/site-packages (6.5.0.post1)\n",
      "Note: you may need to restart the kernel to use updated packages.\n"
     ]
    }
   ],
   "source": [
    "pip install coolprop"
   ]
  },
  {
   "cell_type": "markdown",
   "id": "180ff54a",
   "metadata": {},
   "source": [
    "# Defining the function for the sensetivity analysis"
   ]
  },
  {
   "cell_type": "code",
   "execution_count": 98,
   "id": "a8e6cea5",
   "metadata": {
    "scrolled": false
   },
   "outputs": [
    {
     "data": {
      "application/vnd.jupyter.widget-view+json": {
       "model_id": "967cb633c4234831b63f22742f88fe77",
       "version_major": 2,
       "version_minor": 0
      },
      "text/plain": [
       "interactive(children=(FloatSlider(value=0.01, description='L', max=0.03, min=-0.01), IntSlider(value=21600, de…"
      ]
     },
     "metadata": {},
     "output_type": "display_data"
    }
   ],
   "source": [
    "@interact\n",
    "def BV_Diff_O2(L=0.01, tfinal=21600, sat=0.15, i0=2.55, T=298., OV=-0.075):\n",
    "    alpha = 2\n",
    "    F = 96485\n",
    "    R = 8.314\n",
    "    #current = np.array([0])\n",
    "    O2_limit = 10**-20\n",
    "    CO20 = 0.26  # mol/m3\n",
    "    COH0 = (10**-4)  # mol/m3\n",
    "    concO2 = np.array([0.26])\n",
    "    concOH = np.array([10**-4])\n",
    "    BC1 = CO20  # Boundary condition 1, in the bulk\n",
    "\n",
    "    # Diffusion\n",
    "    N = 20  # number of points to discretize\n",
    "    X = np.linspace(0, L, N)  # position along the rod\n",
    "    h = L / (N - 1)  # discretization spacing\n",
    "\n",
    "    D = 2.9 * 10**-9  # Diffusivity\n",
    "\n",
    "    Ntsteps = tfinal\n",
    "    dt = tfinal / (Ntsteps)\n",
    "    t = np.arange(0, tfinal, dt)\n",
    "    alpha = D * dt / h**2\n",
    "\n",
    "    C = np.zeros(X.shape)\n",
    "    C[0] = BC1\n",
    "\n",
    "    #current = np.array([])\n",
    "\n",
    "    for j in range(tfinal):\n",
    "        N = np.zeros(C.shape)\n",
    "        N[0] = BC1\n",
    "        N[1:-1] = alpha * C[2:] + (1 - 2 * alpha) * C[1:-1] + alpha * C[0:-2]\n",
    "        if N[-2] < sat:\n",
    "            N[-1] = N[-2]\n",
    "            #current = np.append(current, 0)\n",
    "            concOH = np.append(concOH, concOH[-1])\n",
    "            concO2 = np.append(concO2, N[-1])\n",
    "        else:\n",
    "            iloc = i0 * ((concOH[j] * np.exp((alpha * F * OV) / (R * T))) - (N[-2] * np.exp((-(alpha) * F * OV) / (R * T))))\n",
    "            RO2 = -1 * abs(iloc) / (F * 4)\n",
    "            N[-1] = (RO2 * h) + N[-2]\n",
    "            new_concO2 = N[-1]\n",
    "            concO2 = np.append(concO2, new_concO2)\n",
    "\n",
    "            ROH = 4 * abs(iloc) / (F * 4)\n",
    "            new_concOH = (ROH * h) + concOH[j]\n",
    "            concOH = np.append(concOH, new_concOH)\n",
    "\n",
    "            newCurrent = iloc * 0.0104\n",
    "            #current = np.append(current, newCurrent)\n",
    "\n",
    "        C[:] = N\n",
    "\n",
    "    return C[-1]\n",
    "\n"
   ]
  },
  {
   "cell_type": "markdown",
   "id": "8d6b82c0",
   "metadata": {},
   "source": [
    "Let's see the interaction for pH change as well:"
   ]
  },
  {
   "cell_type": "code",
   "execution_count": 25,
   "id": "68ff5033",
   "metadata": {},
   "outputs": [
    {
     "data": {
      "application/vnd.jupyter.widget-view+json": {
       "model_id": "02176e3f4a324198b4227413be5a2b41",
       "version_major": 2,
       "version_minor": 0
      },
      "text/plain": [
       "interactive(children=(FloatSlider(value=0.01, description='L', max=0.03, min=-0.01), IntSlider(value=21600, de…"
      ]
     },
     "metadata": {},
     "output_type": "display_data"
    }
   ],
   "source": [
    "@interact\n",
    "def BV_Diff_pH( L = 0.01, #...\n",
    "                  tfinal = 21600, # ...\n",
    "                  sat = 0.15,\n",
    "                  i0 = 2.55,\n",
    "                  T = 298., # ...\n",
    "                  OV = -0.075, # ...\n",
    "                 ):\n",
    "    alpha = 2#...\n",
    "    F = 96485#...\n",
    "    R = 8.314#...\n",
    "    #current = np.array([0])\n",
    "    O2_limit = 10**-20\n",
    "#     OV = -0.075#\n",
    "    CO20 = 0.26 #mol/m3\n",
    "    COH0 = (10**-4)#mol/m3\n",
    "    concO2 = np.array([0.26])\n",
    "    concOH = np.array([10**-4])\n",
    "    BC1 = CO20 #Boundary condition 1, in the bulk\n",
    "\n",
    "    #   Diffusion\n",
    "    N = 20  # number of points to discretize\n",
    "    #L = 0.01\n",
    "    X = np.linspace(0, L, N)  # position along the rod\n",
    "    h = L / (N - 1)  # discretization spacing\n",
    "\n",
    "\n",
    "    D = 2.9*10**-9  # Diffusivity\n",
    "\n",
    "    #tfinal = 54000 #15 hours\n",
    "    Ntsteps = tfinal\n",
    "    dt = tfinal / (Ntsteps)\n",
    "    t = np.arange(0, tfinal, dt)\n",
    "    alpha = D * dt / h**2\n",
    "\n",
    "\n",
    "    # initial condition at t = 0\n",
    "    C = np.zeros(X.shape)\n",
    "    C[0] = BC1\n",
    "\n",
    "    #current = np.array([])\n",
    "\n",
    "    for j in range(tfinal):\n",
    "        N = np.zeros(C.shape)\n",
    "        N[0] = BC1\n",
    "        N[1:-1] = alpha * C[2:] + (1 - 2 * alpha) * C[1:-1] + alpha * C[0:-2]\n",
    "        if N[-2] < sat: #to give it some time until the solution gets to a degree of saturation\n",
    "            N[-1] = N[-2]  # derivative boundary condition flux = 0\n",
    "            #current = np.append(current, 0)\n",
    "            concOH = np.append(concOH, concOH[0])\n",
    "            concO2 = np.append(concO2, N[-1])\n",
    "\n",
    "        else: #after the solution is saturated with O2\n",
    "            #print('Saturated')\n",
    "            iloc = i0*((concOH[j]*np.exp((alpha*F*OV)/(R*T))) - (N[-2]*np.exp((-(alpha)*F*OV)/(R*T)))) #Current density\n",
    "\n",
    "            RO2 = -1*abs(iloc)/(F*4) #Rate of O2 consumption or flux at the surface \n",
    "\n",
    "            N[-1] = (RO2*h) + N[-2]  # derivative boundary condition flux = RO2, BC2\n",
    "            new_concO2 = N[-1]\n",
    "            concO2 = np.append(concO2, new_concO2)\n",
    "\n",
    "            ROH = 4*abs(iloc)/(F*4) #Rate of OH production\n",
    "\n",
    "            new_concOH = (ROH*h) + concOH[j]\n",
    "\n",
    "            concOH = np.append(concOH, new_concOH)\n",
    "\n",
    "            newCurrent = iloc*0.0104\n",
    "\n",
    "            #current = np.append(current, newCurrent)\n",
    "\n",
    "        C[:] = N #Crucial for the loop\n",
    "     \n",
    "    pH = 14 + np.log(concOH[tfinal] )\n",
    "    pH0=14+np.log(COH0)\n",
    "    pHChange=pH-pH0\n",
    "    return  pHChange"
   ]
  },
  {
   "cell_type": "code",
   "execution_count": 57,
   "id": "46e221c2",
   "metadata": {},
   "outputs": [
    {
     "data": {
      "application/vnd.jupyter.widget-view+json": {
       "model_id": "2c98198ee86e43df9743d0f6f2143acb",
       "version_major": 2,
       "version_minor": 0
      },
      "text/plain": [
       "interactive(children=(FloatSlider(value=0.01, description='L', max=0.03, min=-0.01), IntSlider(value=21600, de…"
      ]
     },
     "metadata": {},
     "output_type": "display_data"
    }
   ],
   "source": [
    "@interact\n",
    "def BV_Diff_Current( L = 0.01, #...\n",
    "                  tfinal = 21600, # ...\n",
    "                  sat = 0.15,\n",
    "                  i0 = 2.55,\n",
    "                  T = 298., # ...\n",
    "                  OV = -0.075, # ...\n",
    "                 ):\n",
    "    alpha = 2#...\n",
    "    F = 96485#...\n",
    "    R = 8.314#...\n",
    "    current = np.array([0])\n",
    "    O2_limit = 10**-20\n",
    "#     OV = -0.075#\n",
    "    CO20 = 0.26 #mol/m3\n",
    "    COH0 = (10**-4)#mol/m3\n",
    "    concO2 = np.array([0.26])\n",
    "    concOH = np.array([10**-4])\n",
    "    BC1 = CO20 #Boundary condition 1, in the bulk\n",
    "\n",
    "    #   Diffusion\n",
    "    N = 20  # number of points to discretize\n",
    "    #L = 0.01\n",
    "    X = np.linspace(0, L, N)  # position along the rod\n",
    "    h = L / (N - 1)  # discretization spacing\n",
    "\n",
    "\n",
    "    D = 2.9*10**-9  # Diffusivity\n",
    "\n",
    "    #tfinal = 54000 #15 hours\n",
    "    Ntsteps = tfinal\n",
    "    dt = tfinal / (Ntsteps)\n",
    "    t = np.arange(0, tfinal, dt)\n",
    "    alpha = D * dt / h**2\n",
    "\n",
    "\n",
    "    # initial condition at t = 0\n",
    "    C = np.zeros(X.shape)\n",
    "    C[0] = BC1\n",
    "\n",
    "    current = np.array([])\n",
    "\n",
    "    for j in range(tfinal):\n",
    "        N = np.zeros(C.shape)\n",
    "        N[0] = BC1\n",
    "        N[1:-1] = alpha * C[2:] + (1 - 2 * alpha) * C[1:-1] + alpha * C[0:-2]\n",
    "        if N[-2] < 0.15: #to give it some time until the solution gets to a degree of saturation\n",
    "            N[-1] = N[-2]  # derivative boundary condition flux = 0\n",
    "            current = np.append(current, 0)\n",
    "            concOH = np.append(concOH, concOH[0])\n",
    "            concO2 = np.append(concO2, N[-1])\n",
    "\n",
    "        else: #after the solution is saturated with O2\n",
    "            #print('Saturated')\n",
    "            iloc = i0*((concOH[j]*np.exp((alpha*F*OV)/(R*T))) - (N[-2]*np.exp((-(alpha)*F*OV)/(R*T)))) #Current density\n",
    "\n",
    "            RO2 = -1*abs(iloc)/(F*4) #Rate of O2 consumption or flux at the surface \n",
    "\n",
    "            N[-1] = (RO2*h) + N[-2]  # derivative boundary condition flux = RO2, BC2\n",
    "            new_concO2 = N[-1]\n",
    "            concO2 = np.append(concO2, new_concO2)\n",
    "\n",
    "            ROH = 4*abs(iloc)/(F*4) #Rate of OH production\n",
    "\n",
    "            new_concOH = (ROH*h) + concOH[j]\n",
    "\n",
    "            concOH = np.append(concOH, new_concOH)\n",
    "\n",
    "            newCurrent = iloc*0.0104\n",
    "\n",
    "            current = np.append(current, newCurrent)\n",
    "\n",
    "        C[:] = N #Crucial for the loop\n",
    "     \n",
    "    \n",
    "    return  current[-1]"
   ]
  },
  {
   "cell_type": "code",
   "execution_count": 27,
   "id": "2e55fe2a",
   "metadata": {},
   "outputs": [
    {
     "name": "stdout",
     "output_type": "stream",
     "text": [
      "[0.0000e+00 1.0000e+00 2.0000e+00 ... 2.1597e+04 2.1598e+04 2.1599e+04]\n"
     ]
    }
   ],
   "source": [
    "tfinal = 21600\n",
    "Ntsteps = 21600  # Choose an appropriate number of steps\n",
    "dt = tfinal / (Ntsteps)  # Calculate the correct time step\n",
    "t = np.arange(0, tfinal, dt)\n",
    "print(t)\n"
   ]
  },
  {
   "cell_type": "code",
   "execution_count": 162,
   "id": "c302282e",
   "metadata": {},
   "outputs": [],
   "source": [
    "\n",
    "def BV_Diff_O2_new(L=0.01, tfinal=21600, sat=0.15, i0=2.55, T=298., OV=-0.075):\n",
    "    alpha = 2\n",
    "    F = 96485\n",
    "    R = 8.314\n",
    "    #current = np.array([0])\n",
    "    O2_limit = 10**-20\n",
    "    CO20 = 0.26  # mol/m3\n",
    "    COH0 = (10**-4)  # mol/m3\n",
    "    concO2 = np.array([0.26])\n",
    "    concOH = np.array([10**-4])\n",
    "    BC1 = CO20  # Boundary condition 1, in the bulk\n",
    "\n",
    "    # Diffusion\n",
    "    N = 20  # number of points to discretize\n",
    "    X = np.linspace(0, L, N)  # position along the rod\n",
    "    h = L / (N - 1)  # discretization spacing\n",
    "\n",
    "    D = 2.9 * 10**-9  # Diffusivity\n",
    "    \n",
    "#     tfinal_new = tfinal.astype(int)\n",
    "      \n",
    "#     Ntsteps = tfinal_new\n",
    "#     dt = tfinal_new / (Ntsteps)\n",
    "    dt = 1\n",
    "    print(tfinal_new)\n",
    "    tfinal = np.array([18900,18900,19000])\n",
    "    t = np.arange(0, tfinal, dt)\n",
    "    alpha = D * dt / h**2\n",
    "\n",
    "    C = np.zeros(X.shape)\n",
    "    C[0] = BC1\n",
    "\n",
    "    #current = np.array([])\n",
    "\n",
    "    for j in range(tfinal):\n",
    "        N = np.zeros(C.shape)\n",
    "        N[0] = BC1\n",
    "        N[1:-1] = alpha * C[2:] + (1 - 2 * alpha) * C[1:-1] + alpha * C[0:-2]\n",
    "        if N[-2] < sat:\n",
    "            N[-1] = N[-2]\n",
    "            #current = np.append(current, 0)\n",
    "            concOH = np.append(concOH, concOH[-1])\n",
    "            concO2 = np.append(concO2, N[-1])\n",
    "        else:\n",
    "            iloc = i0 * ((concOH[j] * np.exp((alpha * F * OV) / (R * T))) - (N[-2] * np.exp((-(alpha) * F * OV) / (R * T))))\n",
    "            RO2 = -1 * abs(iloc) / (F * 4)\n",
    "            N[-1] = (RO2 * h) + N[-2]\n",
    "            new_concO2 = N[-1]\n",
    "            concO2 = np.append(concO2, new_concO2)\n",
    "\n",
    "            ROH = 4 * abs(iloc) / (F * 4)\n",
    "            new_concOH = (ROH * h) + concOH[j]\n",
    "            concOH = np.append(concOH, new_concOH)\n",
    "\n",
    "            newCurrent = iloc * 0.0104\n",
    "            #current = np.append(current, newCurrent)\n",
    "\n",
    "        C[:] = N\n",
    "\n",
    "    return C[-1]\n"
   ]
  },
  {
   "cell_type": "code",
   "execution_count": 163,
   "id": "2fa08bd5",
   "metadata": {},
   "outputs": [
    {
     "name": "stdout",
     "output_type": "stream",
     "text": [
      "[18900 18900 18900 10800 10800 10800 10800]\n"
     ]
    },
    {
     "ename": "ValueError",
     "evalue": "The truth value of an array with more than one element is ambiguous. Use a.any() or a.all()",
     "output_type": "error",
     "traceback": [
      "\u001b[0;31m---------------------------------------------------------------------------\u001b[0m",
      "\u001b[0;31mValueError\u001b[0m                                Traceback (most recent call last)",
      "Cell \u001b[0;32mIn[163], line 1\u001b[0m\n\u001b[0;32m----> 1\u001b[0m a\u001b[38;5;241m=\u001b[39mBV_Diff_O2_new(L\u001b[38;5;241m=\u001b[39m\u001b[38;5;241m0.01\u001b[39m, tfinal\u001b[38;5;241m=\u001b[39m\u001b[38;5;241m21600\u001b[39m, sat\u001b[38;5;241m=\u001b[39m\u001b[38;5;241m0.15\u001b[39m, i0\u001b[38;5;241m=\u001b[39m\u001b[38;5;241m2.55\u001b[39m, T\u001b[38;5;241m=\u001b[39m\u001b[38;5;241m298.\u001b[39m, OV\u001b[38;5;241m=\u001b[39m\u001b[38;5;241m-\u001b[39m\u001b[38;5;241m0.075\u001b[39m)\n\u001b[1;32m      2\u001b[0m a\n",
      "Cell \u001b[0;32mIn[162], line 27\u001b[0m, in \u001b[0;36mBV_Diff_O2_new\u001b[0;34m(L, tfinal, sat, i0, T, OV)\u001b[0m\n\u001b[1;32m     25\u001b[0m \u001b[38;5;28mprint\u001b[39m(tfinal_new)\n\u001b[1;32m     26\u001b[0m tfinal \u001b[38;5;241m=\u001b[39m np\u001b[38;5;241m.\u001b[39marray([\u001b[38;5;241m18900\u001b[39m,\u001b[38;5;241m18900\u001b[39m,\u001b[38;5;241m19000\u001b[39m])\n\u001b[0;32m---> 27\u001b[0m t \u001b[38;5;241m=\u001b[39m np\u001b[38;5;241m.\u001b[39marange(\u001b[38;5;241m0\u001b[39m, tfinal, dt)\n\u001b[1;32m     28\u001b[0m alpha \u001b[38;5;241m=\u001b[39m D \u001b[38;5;241m*\u001b[39m dt \u001b[38;5;241m/\u001b[39m h\u001b[38;5;241m*\u001b[39m\u001b[38;5;241m*\u001b[39m\u001b[38;5;241m2\u001b[39m\n\u001b[1;32m     30\u001b[0m C \u001b[38;5;241m=\u001b[39m np\u001b[38;5;241m.\u001b[39mzeros(X\u001b[38;5;241m.\u001b[39mshape)\n",
      "\u001b[0;31mValueError\u001b[0m: The truth value of an array with more than one element is ambiguous. Use a.any() or a.all()"
     ]
    }
   ],
   "source": [
    "a=BV_Diff_O2_new(L=0.01, tfinal=21600, sat=0.15, i0=2.55, T=298., OV=-0.075)\n",
    "a"
   ]
  },
  {
   "cell_type": "markdown",
   "id": "bf4c0d2a",
   "metadata": {},
   "source": [
    "# Sensitivity Analysis"
   ]
  },
  {
   "cell_type": "code",
   "execution_count": 140,
   "id": "e17a1f07",
   "metadata": {},
   "outputs": [],
   "source": [
    "from SALib.sample import morris as ms\n",
    "from SALib.analyze import morris as ma\n",
    "from SALib.plotting import morris as mp"
   ]
  },
  {
   "cell_type": "markdown",
   "id": "091b51e8",
   "metadata": {},
   "source": [
    "### Define a problem file"
   ]
  },
  {
   "cell_type": "code",
   "execution_count": 141,
   "id": "772225a7",
   "metadata": {},
   "outputs": [],
   "source": [
    "morris_problem = {\n",
    "    # There are six variables\n",
    "    'num_vars': 6,\n",
    "    # These are their names\n",
    "    'names': ['L', 'tfinal', 'sat', 'i0', 'T', 'OV'],\n",
    "    # These are their plausible ranges over which we'll move the variables\n",
    "    'bounds': [[0.005, 0.05], # 'Double layer', 'm'\n",
    "               [10800, 21600], # 'time duration','sec'\n",
    "               [0.1, 0.2], # saturation degree', 'mol/m3'z\n",
    "               [1.55, 3.55], #'exchange current density', 'A'\n",
    "               [283, 313], # 'Temperature', 'K'\n",
    "               [-0.1, -0.02], # 'over potential', 'v''\n",
    "              ],\n",
    "    # I don't want to group any of these variables together\n",
    "     'groups': None\n",
    "    }"
   ]
  },
  {
   "cell_type": "code",
   "execution_count": 142,
   "id": "07c7d28c",
   "metadata": {},
   "outputs": [
    {
     "data": {
      "text/plain": [
       "{'num_vars': 6,\n",
       " 'names': ['L', 'tfinal', 'sat', 'i0', 'T', 'OV'],\n",
       " 'bounds': [[0.005, 0.05],\n",
       "  [10800, 21600],\n",
       "  [0.1, 0.2],\n",
       "  [1.55, 3.55],\n",
       "  [283, 313],\n",
       "  [-0.1, -0.02]],\n",
       " 'groups': None}"
      ]
     },
     "execution_count": 142,
     "metadata": {},
     "output_type": "execute_result"
    }
   ],
   "source": [
    "morris_problem"
   ]
  },
  {
   "cell_type": "markdown",
   "id": "a0034806",
   "metadata": {},
   "source": [
    "# Generate a Sample"
   ]
  },
  {
   "cell_type": "code",
   "execution_count": 143,
   "id": "2eb29b1b",
   "metadata": {},
   "outputs": [
    {
     "data": {
      "text/plain": [
       "(7, 6)"
      ]
     },
     "execution_count": 143,
     "metadata": {},
     "output_type": "execute_result"
    }
   ],
   "source": [
    "num_levels = 3\n",
    "trajectories = int(1e0)\n",
    "sample = ms.sample(morris_problem, trajectories, num_levels=num_levels)\n",
    "sample.shape"
   ]
  },
  {
   "cell_type": "code",
   "execution_count": 125,
   "id": "6e2f605a",
   "metadata": {},
   "outputs": [
    {
     "name": "stdout",
     "output_type": "stream",
     "text": [
      "[18900 18900 18900 10800 10800 10800 10800]\n"
     ]
    }
   ],
   "source": [
    "tfinal = sample.T[1]\n",
    "# tfinal = np.array([10.2, 10.4, 11.9])\n",
    "\n",
    "# tfinal_new = np.array([]);\n",
    "tfinal_new = tfinal.astype(int)\n",
    "# for t in tfinal:\n",
    "#     tfinal_new = np.append(tfinal_new,int(t))\n",
    "\n",
    "# a = 5.4\n",
    "# print(int(a))\n",
    "print(tfinal_new)"
   ]
  },
  {
   "cell_type": "markdown",
   "id": "75a10e0a",
   "metadata": {},
   "source": [
    "### Factor Prioritisation\n",
    "\n",
    "We'll run a sensitivity analysis of the power module to see which is the most influential parameter.\n",
    "\n",
    "The results parameters are called **mu**, **sigma** and **mu_star**.\n",
    "\n",
    "* **Mu** is the mean effect caused by the input parameter being moved over its range.\n",
    "* **Sigma** is the standard deviation of the mean effect.\n",
    "* **Mu_star** is the mean absolute effect."
   ]
  },
  {
   "cell_type": "code",
   "execution_count": 147,
   "id": "a083a679",
   "metadata": {},
   "outputs": [
    {
     "name": "stdout",
     "output_type": "stream",
     "text": [
      "[18900. 18900. 18900. 18900. 10800. 10800. 10800.]\n"
     ]
    },
    {
     "ename": "TypeError",
     "evalue": "only size-1 arrays can be converted to Python scalars",
     "output_type": "error",
     "traceback": [
      "\u001b[0;31m---------------------------------------------------------------------------\u001b[0m",
      "\u001b[0;31mTypeError\u001b[0m                                 Traceback (most recent call last)",
      "Cell \u001b[0;32mIn[147], line 2\u001b[0m\n\u001b[1;32m      1\u001b[0m \u001b[38;5;66;03m# Run the sample through the power model\u001b[39;00m\n\u001b[0;32m----> 2\u001b[0m output \u001b[38;5;241m=\u001b[39m BV_Diff_O2_new(\u001b[38;5;241m*\u001b[39msample\u001b[38;5;241m.\u001b[39mT)\n",
      "Cell \u001b[0;32mIn[145], line 22\u001b[0m, in \u001b[0;36mBV_Diff_O2_new\u001b[0;34m(L, tfinal, sat, i0, T, OV)\u001b[0m\n\u001b[1;32m     20\u001b[0m \u001b[38;5;66;03m#     tfinal_new = tfinal.astype(int)\u001b[39;00m\n\u001b[1;32m     21\u001b[0m     \u001b[38;5;28mprint\u001b[39m(tfinal)\n\u001b[0;32m---> 22\u001b[0m     tfinal_new \u001b[38;5;241m=\u001b[39m \u001b[38;5;28mint\u001b[39m(tfinal)   \n\u001b[1;32m     23\u001b[0m     Ntsteps \u001b[38;5;241m=\u001b[39m tfinal_new\n\u001b[1;32m     24\u001b[0m     dt \u001b[38;5;241m=\u001b[39m tfinal_new \u001b[38;5;241m/\u001b[39m (Ntsteps)\n",
      "\u001b[0;31mTypeError\u001b[0m: only size-1 arrays can be converted to Python scalars"
     ]
    }
   ],
   "source": [
    "# Run the sample through the power model\n",
    "output = BV_Diff_O2_new(*sample.T)\n",
    "# print(output.shape)\n",
    "# print(output)"
   ]
  },
  {
   "cell_type": "code",
   "execution_count": 54,
   "id": "7baaaf45",
   "metadata": {},
   "outputs": [
    {
     "ename": "NameError",
     "evalue": "name 'output' is not defined",
     "output_type": "error",
     "traceback": [
      "\u001b[0;31m---------------------------------------------------------------------------\u001b[0m",
      "\u001b[0;31mNameError\u001b[0m                                 Traceback (most recent call last)",
      "Cell \u001b[0;32mIn[54], line 4\u001b[0m\n\u001b[1;32m      1\u001b[0m \u001b[38;5;66;03m# Store the results for plotting of the analysis\u001b[39;00m\n\u001b[1;32m      2\u001b[0m Si \u001b[38;5;241m=\u001b[39m ma\u001b[38;5;241m.\u001b[39manalyze(morris_problem, \n\u001b[1;32m      3\u001b[0m                 sample, \n\u001b[0;32m----> 4\u001b[0m                 output, \n\u001b[1;32m      5\u001b[0m                 print_to_console\u001b[38;5;241m=\u001b[39m\u001b[38;5;28;01mFalse\u001b[39;00m, \n\u001b[1;32m      6\u001b[0m                 num_levels\u001b[38;5;241m=\u001b[39mnum_levels)\n\u001b[1;32m      7\u001b[0m \u001b[38;5;28mprint\u001b[39m(\u001b[38;5;124m\"\u001b[39m\u001b[38;5;132;01m{:20s}\u001b[39;00m\u001b[38;5;124m \u001b[39m\u001b[38;5;132;01m{:>7s}\u001b[39;00m\u001b[38;5;124m \u001b[39m\u001b[38;5;132;01m{:>7s}\u001b[39;00m\u001b[38;5;124m \u001b[39m\u001b[38;5;132;01m{:>7s}\u001b[39;00m\u001b[38;5;124m\"\u001b[39m\u001b[38;5;241m.\u001b[39mformat(\u001b[38;5;124m\"\u001b[39m\u001b[38;5;124mName\u001b[39m\u001b[38;5;124m\"\u001b[39m, \u001b[38;5;124m\"\u001b[39m\u001b[38;5;124mmu\u001b[39m\u001b[38;5;124m\"\u001b[39m, \u001b[38;5;124m\"\u001b[39m\u001b[38;5;124mmu_star\u001b[39m\u001b[38;5;124m\"\u001b[39m, \u001b[38;5;124m\"\u001b[39m\u001b[38;5;124msigma\u001b[39m\u001b[38;5;124m\"\u001b[39m))\n\u001b[1;32m      8\u001b[0m \u001b[38;5;28;01mfor\u001b[39;00m name, s1, st, mean \u001b[38;5;129;01min\u001b[39;00m \u001b[38;5;28mzip\u001b[39m(morris_problem[\u001b[38;5;124m'\u001b[39m\u001b[38;5;124mnames\u001b[39m\u001b[38;5;124m'\u001b[39m], Si[\u001b[38;5;124m'\u001b[39m\u001b[38;5;124mmu\u001b[39m\u001b[38;5;124m'\u001b[39m], Si[\u001b[38;5;124m'\u001b[39m\u001b[38;5;124mmu_star\u001b[39m\u001b[38;5;124m'\u001b[39m], Si[\u001b[38;5;124m'\u001b[39m\u001b[38;5;124msigma\u001b[39m\u001b[38;5;124m'\u001b[39m]):\n",
      "\u001b[0;31mNameError\u001b[0m: name 'output' is not defined"
     ]
    }
   ],
   "source": [
    "# Store the results for plotting of the analysis\n",
    "Si = ma.analyze(morris_problem, \n",
    "                sample, \n",
    "                output, \n",
    "                print_to_console=False, \n",
    "                num_levels=num_levels)\n",
    "print(\"{:20s} {:>7s} {:>7s} {:>7s}\".format(\"Name\", \"mu\", \"mu_star\", \"sigma\"))\n",
    "for name, s1, st, mean in zip(morris_problem['names'], Si['mu'], Si['mu_star'], Si['sigma']):\n",
    "    print(\"{:20s} {:=7.2f} {:=7.2f} {:=7.2f}\".format(name, s1, st, mean))"
   ]
  },
  {
   "cell_type": "code",
   "execution_count": null,
   "id": "79dbc81c",
   "metadata": {},
   "outputs": [],
   "source": [
    "fig, (ax1, ax2) = plt.subplots(1,2)\n",
    "mp.horizontal_bar_plot(ax1, Si) #  param_dict={}\n",
    "mp.covariance_plot(ax2, Si, {})"
   ]
  },
  {
   "cell_type": "code",
   "execution_count": null,
   "id": "98fb695e",
   "metadata": {},
   "outputs": [],
   "source": []
  },
  {
   "cell_type": "code",
   "execution_count": null,
   "id": "c0fe167b",
   "metadata": {},
   "outputs": [],
   "source": []
  },
  {
   "cell_type": "code",
   "execution_count": null,
   "id": "c1563c77",
   "metadata": {},
   "outputs": [],
   "source": []
  },
  {
   "cell_type": "code",
   "execution_count": 40,
   "id": "b23ba300",
   "metadata": {},
   "outputs": [
    {
     "name": "stdout",
     "output_type": "stream",
     "text": [
      "{'L': 0.005, 'tfinal': 10800, 'sat': 0.1, 'i0': 1.55, 'T': 283, 'OV': -0.1}\n",
      "-0.004731988995257445\n"
     ]
    }
   ],
   "source": [
    "# Run nominal case\n",
    "values_dict = {i.name: i.nominal for i in variables}\n",
    "#values_dict.update(fixed_parameter_values)\n",
    "print(values_dict)\n",
    "result = BV_Diff(**values_dict)\n",
    "print(result)"
   ]
  },
  {
   "cell_type": "code",
   "execution_count": 47,
   "id": "3dd65b18",
   "metadata": {},
   "outputs": [],
   "source": [
    "def run_many_simulations(data):\n",
    "    results = []\n",
    "    with open('simulations.log', 'w') as f:\n",
    "        for i,row in enumerate(data):\n",
    "            with redirect_stdout(f):\n",
    "                values_dict = {p.name: v for p, v in zip(variables, row)}\n",
    "                #values_dict.update(fixed_parameter_values)\n",
    "                print(values_dict)\n",
    "                try:\n",
    "                    result = BV_Diff(**values_dict)\n",
    "                except RuntimeError:\n",
    "                    result = np.nan\n",
    "                results.append(result)\n",
    "                print(result)\n",
    "                print('-'*80)\n",
    "            print(\"Run {} of {} gives {}\".format(i+1, len(data), result))\n",
    "    return np.array(results)"
   ]
  },
  {
   "cell_type": "markdown",
   "id": "5d18dc9a",
   "metadata": {},
   "source": [
    "# Morris Method"
   ]
  },
  {
   "cell_type": "code",
   "execution_count": 42,
   "id": "1a1022c2",
   "metadata": {},
   "outputs": [
    {
     "name": "stdout",
     "output_type": "stream",
     "text": [
      "[[ 2.33333333e-02  2.88000000e+04  1.50000000e-01  3.21666667e+00\n",
      "   3.13000000e+02 -5.66666667e-02]\n",
      " [ 2.33333333e-02  4.32000000e+04  1.50000000e-01  3.21666667e+00\n",
      "   3.13000000e+02 -5.66666667e-02]\n",
      " [ 2.33333333e-02  4.32000000e+04  1.50000000e-01  3.21666667e+00\n",
      "   3.03000000e+02 -5.66666667e-02]\n",
      " ...\n",
      " [ 3.66666667e-02  2.88000000e+04  1.66666667e-01  2.55000000e+00\n",
      "   3.03000000e+02 -3.83333333e-02]\n",
      " [ 3.66666667e-02  2.88000000e+04  1.66666667e-01  2.55000000e+00\n",
      "   3.13000000e+02 -3.83333333e-02]\n",
      " [ 3.66666667e-02  4.32000000e+04  1.66666667e-01  2.55000000e+00\n",
      "   3.13000000e+02 -3.83333333e-02]]\n"
     ]
    },
    {
     "data": {
      "text/plain": [
       "7000"
      ]
     },
     "execution_count": 42,
     "metadata": {},
     "output_type": "execute_result"
    }
   ],
   "source": [
    "number_of_samples = 1000\n",
    "sample = ms.sample(salib_problem, number_of_samples)\n",
    "print(sample)\n",
    "len(sample)"
   ]
  },
  {
   "cell_type": "code",
   "execution_count": 43,
   "id": "1f42ffce",
   "metadata": {},
   "outputs": [
    {
     "data": {
      "text/plain": [
       "(7000, 6)"
      ]
     },
     "execution_count": 43,
     "metadata": {},
     "output_type": "execute_result"
    }
   ],
   "source": [
    "sample.shape"
   ]
  },
  {
   "cell_type": "code",
   "execution_count": 52,
   "id": "8639277b",
   "metadata": {},
   "outputs": [
    {
     "ename": "NameError",
     "evalue": "name 'run_many_simulations' is not defined",
     "output_type": "error",
     "traceback": [
      "\u001b[0;31m---------------------------------------------------------------------------\u001b[0m",
      "\u001b[0;31mNameError\u001b[0m                                 Traceback (most recent call last)",
      "File \u001b[0;32m<timed exec>:1\u001b[0m\n",
      "\u001b[0;31mNameError\u001b[0m: name 'run_many_simulations' is not defined"
     ]
    }
   ],
   "source": [
    "%%time\n",
    "output = run_many_simulations(sample)\n",
    "#output = run_many_simulations_parallel(sample)"
   ]
  },
  {
   "cell_type": "code",
   "execution_count": null,
   "id": "3a479c6c",
   "metadata": {},
   "outputs": [],
   "source": []
  }
 ],
 "metadata": {
  "kernelspec": {
   "display_name": "Python 3 (ipykernel)",
   "language": "python",
   "name": "python3"
  },
  "language_info": {
   "codemirror_mode": {
    "name": "ipython",
    "version": 3
   },
   "file_extension": ".py",
   "mimetype": "text/x-python",
   "name": "python",
   "nbconvert_exporter": "python",
   "pygments_lexer": "ipython3",
   "version": "3.11.4"
  }
 },
 "nbformat": 4,
 "nbformat_minor": 5
}
