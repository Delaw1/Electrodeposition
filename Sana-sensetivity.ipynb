{
 "cells": [
  {
   "cell_type": "code",
   "execution_count": 1,
   "id": "414489ae",
   "metadata": {},
   "outputs": [],
   "source": [
    "from ipywidgets import widgets, interact, fixed\n",
    "from IPython.display import display\n",
    "%matplotlib inline\n",
    "import seaborn as sbn\n",
    "import pandas as pd\n",
    "import matplotlib.pyplot as plt\n",
    "import numpy as np\n",
    "from scipy.integrate import solve_ivp\n",
    "from IPython.core.pylabtools import figsize\n",
    "import scipy\n",
    "import scipy.interpolate\n",
    "from contextlib import redirect_stdout\n",
    "from CoolProp import CoolProp\n",
    "figsize(12, 10)\n",
    "sbn.set_context(\"talk\", font_scale=1)"
   ]
  },
  {
   "cell_type": "code",
   "execution_count": 2,
   "id": "ed252866",
   "metadata": {},
   "outputs": [
    {
     "name": "stdout",
     "output_type": "stream",
     "text": [
      "Requirement already satisfied: coolprop in /Users/sanaheydarian/anaconda3/lib/python3.11/site-packages (6.5.0.post1)\n",
      "Note: you may need to restart the kernel to use updated packages.\n"
     ]
    }
   ],
   "source": [
    "pip install coolprop"
   ]
  },
  {
   "cell_type": "markdown",
   "id": "180ff54a",
   "metadata": {},
   "source": [
    "# Defining the function for the sensetivity analysis"
   ]
  },
  {
   "cell_type": "code",
   "execution_count": 2,
   "id": "a8e6cea5",
   "metadata": {
    "scrolled": false
   },
   "outputs": [
    {
     "data": {
      "application/vnd.jupyter.widget-view+json": {
       "model_id": "18406e92e4dd41ba8ac109f234fdbdca",
       "version_major": 2,
       "version_minor": 0
      },
      "text/plain": [
       "interactive(children=(FloatSlider(value=0.01, description='L', max=0.03, min=-0.01), IntSlider(value=21600, de…"
      ]
     },
     "metadata": {},
     "output_type": "display_data"
    }
   ],
   "source": [
    "@interact\n",
    "def BV_Diff_O2(L=0.01, tfinal=21600, sat=0.15, i0=2.55, T=298., OV=-0.075):\n",
    "    alpha = 2\n",
    "    F = 96485\n",
    "    R = 8.314\n",
    "    #current = np.array([0])\n",
    "    O2_limit = 10**-20\n",
    "    CO20 = 0.26  # mol/m3\n",
    "    COH0 = (10**-4)  # mol/m3\n",
    "    concO2 = np.array([0.26])\n",
    "    concOH = np.array([10**-4])\n",
    "    BC1 = CO20  # Boundary condition 1, in the bulk\n",
    "\n",
    "    # Diffusion\n",
    "    N = 20  # number of points to discretize\n",
    "    X = np.linspace(0, L, N)  # position along the rod\n",
    "    h = L / (N - 1)  # discretization spacing\n",
    "\n",
    "    D = 2.9 * 10**-9  # Diffusivity\n",
    "\n",
    "    Ntsteps = tfinal\n",
    "    dt = tfinal / (Ntsteps)\n",
    "    t = np.arange(0, tfinal, dt)\n",
    "    alpha = D * dt / h**2\n",
    "\n",
    "    C = np.zeros(X.shape)\n",
    "    C[0] = BC1\n",
    "\n",
    "    #current = np.array([])\n",
    "\n",
    "    for j in range(tfinal):\n",
    "        N = np.zeros(C.shape)\n",
    "        N[0] = BC1\n",
    "        N[1:-1] = alpha * C[2:] + (1 - 2 * alpha) * C[1:-1] + alpha * C[0:-2]\n",
    "        if N[-2] < sat:\n",
    "            N[-1] = N[-2]\n",
    "            #current = np.append(current, 0)\n",
    "            concOH = np.append(concOH, concOH[-1])\n",
    "            concO2 = np.append(concO2, N[-1])\n",
    "        else:\n",
    "            iloc = i0 * ((concOH[j] * np.exp((alpha * F * OV) / (R * T))) - (N[-2] * np.exp((-(alpha) * F * OV) / (R * T))))\n",
    "            RO2 = -1 * abs(iloc) / (F * 4)\n",
    "            N[-1] = (RO2 * h) + N[-2]\n",
    "            new_concO2 = N[-1]\n",
    "            concO2 = np.append(concO2, new_concO2)\n",
    "\n",
    "            ROH = 4 * abs(iloc) / (F * 4)\n",
    "            new_concOH = (ROH * h) + concOH[j]\n",
    "            concOH = np.append(concOH, new_concOH)\n",
    "\n",
    "            newCurrent = iloc * 0.0104\n",
    "            #current = np.append(current, newCurrent)\n",
    "\n",
    "        C[:] = N\n",
    "\n",
    "    return C[-1]\n",
    "\n"
   ]
  },
  {
   "cell_type": "markdown",
   "id": "8d6b82c0",
   "metadata": {},
   "source": [
    "Let's see the interaction for pH change as well:"
   ]
  },
  {
   "cell_type": "code",
   "execution_count": 3,
   "id": "68ff5033",
   "metadata": {},
   "outputs": [
    {
     "data": {
      "application/vnd.jupyter.widget-view+json": {
       "model_id": "51f372340ce84be0870539b9fe9bff9b",
       "version_major": 2,
       "version_minor": 0
      },
      "text/plain": [
       "interactive(children=(FloatSlider(value=0.01, description='L', max=0.03, min=-0.01), IntSlider(value=21600, de…"
      ]
     },
     "metadata": {},
     "output_type": "display_data"
    }
   ],
   "source": [
    "@interact\n",
    "def BV_Diff_pH( L = 0.01, #...\n",
    "                  tfinal = 21600, # ...\n",
    "                  sat = 0.15,\n",
    "                  i0 = 2.55,\n",
    "                  T = 298., # ...\n",
    "                  OV = -0.075, # ...\n",
    "                 ):\n",
    "    alpha = 2#...\n",
    "    F = 96485#...\n",
    "    R = 8.314#...\n",
    "    #current = np.array([0])\n",
    "    O2_limit = 10**-20\n",
    "#     OV = -0.075#\n",
    "    CO20 = 0.26 #mol/m3\n",
    "    COH0 = (10**-4)#mol/m3\n",
    "    concO2 = np.array([0.26])\n",
    "    concOH = np.array([10**-4])\n",
    "    BC1 = CO20 #Boundary condition 1, in the bulk\n",
    "\n",
    "    #   Diffusion\n",
    "    N = 20  # number of points to discretize\n",
    "    #L = 0.01\n",
    "    X = np.linspace(0, L, N)  # position along the rod\n",
    "    h = L / (N - 1)  # discretization spacing\n",
    "\n",
    "\n",
    "    D = 2.9*10**-9  # Diffusivity\n",
    "\n",
    "    #tfinal = 54000 #15 hours\n",
    "    Ntsteps = tfinal\n",
    "    dt = tfinal / (Ntsteps)\n",
    "    t = np.arange(0, tfinal, dt)\n",
    "    alpha = D * dt / h**2\n",
    "\n",
    "\n",
    "    # initial condition at t = 0\n",
    "    C = np.zeros(X.shape)\n",
    "    C[0] = BC1\n",
    "\n",
    "    #current = np.array([])\n",
    "\n",
    "    for j in range(tfinal):\n",
    "        N = np.zeros(C.shape)\n",
    "        N[0] = BC1\n",
    "        N[1:-1] = alpha * C[2:] + (1 - 2 * alpha) * C[1:-1] + alpha * C[0:-2]\n",
    "        if N[-2] < sat: #to give it some time until the solution gets to a degree of saturation\n",
    "            N[-1] = N[-2]  # derivative boundary condition flux = 0\n",
    "            #current = np.append(current, 0)\n",
    "            concOH = np.append(concOH, concOH[0])\n",
    "            concO2 = np.append(concO2, N[-1])\n",
    "\n",
    "        else: #after the solution is saturated with O2\n",
    "            #print('Saturated')\n",
    "            iloc = i0*((concOH[j]*np.exp((alpha*F*OV)/(R*T))) - (N[-2]*np.exp((-(alpha)*F*OV)/(R*T)))) #Current density\n",
    "\n",
    "            RO2 = -1*abs(iloc)/(F*4) #Rate of O2 consumption or flux at the surface \n",
    "\n",
    "            N[-1] = (RO2*h) + N[-2]  # derivative boundary condition flux = RO2, BC2\n",
    "            new_concO2 = N[-1]\n",
    "            concO2 = np.append(concO2, new_concO2)\n",
    "\n",
    "            ROH = 4*abs(iloc)/(F*4) #Rate of OH production\n",
    "\n",
    "            new_concOH = (ROH*h) + concOH[j]\n",
    "\n",
    "            concOH = np.append(concOH, new_concOH)\n",
    "\n",
    "            newCurrent = iloc*0.0104\n",
    "\n",
    "            #current = np.append(current, newCurrent)\n",
    "\n",
    "        C[:] = N #Crucial for the loop\n",
    "     \n",
    "    pH = 14 + np.log(concOH[tfinal] )\n",
    "    pH0=14+np.log(COH0)\n",
    "    pHChange=pH-pH0\n",
    "    return  pHChange"
   ]
  },
  {
   "cell_type": "code",
   "execution_count": 4,
   "id": "46e221c2",
   "metadata": {},
   "outputs": [
    {
     "data": {
      "application/vnd.jupyter.widget-view+json": {
       "model_id": "0a46f7fdb5c1445f8115242c265c40fc",
       "version_major": 2,
       "version_minor": 0
      },
      "text/plain": [
       "interactive(children=(FloatSlider(value=0.01, description='L', max=0.03, min=-0.01), IntSlider(value=21600, de…"
      ]
     },
     "metadata": {},
     "output_type": "display_data"
    }
   ],
   "source": [
    "@interact\n",
    "def BV_Diff_Current( L = 0.01, #...\n",
    "                  tfinal = 21600, # ...\n",
    "                  sat = 0.15,\n",
    "                  i0 = 2.55,\n",
    "                  T = 298., # ...\n",
    "                  OV = -0.075, # ...\n",
    "                 ):\n",
    "    alpha = 2#...\n",
    "    F = 96485#...\n",
    "    R = 8.314#...\n",
    "    current = np.array([0])\n",
    "    O2_limit = 10**-20\n",
    "#     OV = -0.075#\n",
    "    CO20 = 0.26 #mol/m3\n",
    "    COH0 = (10**-4)#mol/m3\n",
    "    concO2 = np.array([0.26])\n",
    "    concOH = np.array([10**-4])\n",
    "    BC1 = CO20 #Boundary condition 1, in the bulk\n",
    "\n",
    "    #   Diffusion\n",
    "    N = 20  # number of points to discretize\n",
    "    #L = 0.01\n",
    "    X = np.linspace(0, L, N)  # position along the rod\n",
    "    h = L / (N - 1)  # discretization spacing\n",
    "\n",
    "\n",
    "    D = 2.9*10**-9  # Diffusivity\n",
    "\n",
    "    #tfinal = 54000 #15 hours\n",
    "    Ntsteps = tfinal\n",
    "    dt = tfinal / (Ntsteps)\n",
    "    t = np.arange(0, tfinal, dt)\n",
    "    alpha = D * dt / h**2\n",
    "\n",
    "\n",
    "    # initial condition at t = 0\n",
    "    C = np.zeros(X.shape)\n",
    "    C[0] = BC1\n",
    "\n",
    "    current = np.array([])\n",
    "\n",
    "    for j in range(tfinal):\n",
    "        N = np.zeros(C.shape)\n",
    "        N[0] = BC1\n",
    "        N[1:-1] = alpha * C[2:] + (1 - 2 * alpha) * C[1:-1] + alpha * C[0:-2]\n",
    "        if N[-2] < 0.15: #to give it some time until the solution gets to a degree of saturation\n",
    "            N[-1] = N[-2]  # derivative boundary condition flux = 0\n",
    "            current = np.append(current, 0)\n",
    "            concOH = np.append(concOH, concOH[0])\n",
    "            concO2 = np.append(concO2, N[-1])\n",
    "\n",
    "        else: #after the solution is saturated with O2\n",
    "            #print('Saturated')\n",
    "            iloc = i0*((concOH[j]*np.exp((alpha*F*OV)/(R*T))) - (N[-2]*np.exp((-(alpha)*F*OV)/(R*T)))) #Current density\n",
    "\n",
    "            RO2 = -1*abs(iloc)/(F*4) #Rate of O2 consumption or flux at the surface \n",
    "\n",
    "            N[-1] = (RO2*h) + N[-2]  # derivative boundary condition flux = RO2, BC2\n",
    "            new_concO2 = N[-1]\n",
    "            concO2 = np.append(concO2, new_concO2)\n",
    "\n",
    "            ROH = 4*abs(iloc)/(F*4) #Rate of OH production\n",
    "\n",
    "            new_concOH = (ROH*h) + concOH[j]\n",
    "\n",
    "            concOH = np.append(concOH, new_concOH)\n",
    "\n",
    "            newCurrent = iloc*0.0104\n",
    "\n",
    "            current = np.append(current, newCurrent)\n",
    "\n",
    "        C[:] = N #Crucial for the loop\n",
    "     \n",
    "    \n",
    "    return  current[-1]"
   ]
  },
  {
   "cell_type": "code",
   "execution_count": 27,
   "id": "74bac36a",
   "metadata": {},
   "outputs": [
    {
     "name": "stdout",
     "output_type": "stream",
     "text": [
      "[0.0000e+00 1.0000e+00 2.0000e+00 ... 2.1597e+04 2.1598e+04 2.1599e+04]\n"
     ]
    }
   ],
   "source": [
    "tfinal = 21600\n",
    "Ntsteps = 21600  # Choose an appropriate number of steps\n",
    "dt = tfinal / (Ntsteps)  # Calculate the correct time step\n",
    "t = np.arange(0, tfinal, dt)\n",
    "print(t)\n"
   ]
  },
  {
   "cell_type": "code",
   "execution_count": 20,
   "id": "1c44ce54",
   "metadata": {},
   "outputs": [],
   "source": [
    "def BV_Diff_O2_new(L=0.01, tfinal=np.array([10800, 10800]), sat=np.array([0.2, 0.1]), i0=2.55, T=298., OV=-0.075):\n",
    "    alpha = 2\n",
    "    F = 96485\n",
    "    R = 8.314\n",
    "    O2_limit = 1e-20\n",
    "    CO20 = 0.26  # mol/m3\n",
    "    COH0 = 1e-4  # mol/m3\n",
    "    concO2 = np.array([0.26])\n",
    "    concOH = np.array([1e-4])\n",
    "    BC1 = CO20  # Boundary condition 1, in the bulk\n",
    "\n",
    "    # Diffusion\n",
    "    N = 20  # number of points to discretize\n",
    "    X = np.linspace(0, L, N)  # position along the rod\n",
    "    h = L / (N - 1)  # discretization spacing\n",
    "\n",
    "    D = 2.9 * 1e-9  # Diffusivity\n",
    "    C = np.zeros(X.shape)\n",
    "    C[0] = BC1\n",
    "    L=[]\n",
    "    g=[]\n",
    "    q=[]\n",
    "    for p in range(len(sat)):\n",
    "        s1 = sat[p]\n",
    "        for k in range(len(tfinal)):\n",
    "            t1 = tfinal[k]\n",
    "            Ntsteps = t1\n",
    "            dt = t1 / Ntsteps\n",
    "            t = np.arange(0, t1, dt)\n",
    "            alpha = D * dt / h**2\n",
    "\n",
    "            for j in range(len(t)):\n",
    "                N = np.zeros(C.shape)\n",
    "                N[0] = BC1\n",
    "                N[1:-1] = alpha * C[2:] + (1 - 2 * alpha) * C[1:-1] + alpha * C[0:-2]\n",
    "\n",
    "                if np.any(N[-2] < s1):\n",
    "                    N[-1] = N[-2]\n",
    "                    concOH = np.append(concOH, concOH[-1])\n",
    "                    concO2 = np.append(concO2, N[-1])\n",
    "                else:\n",
    "                    iloc = i0 * ((concOH[-1] * np.exp((alpha * F * OV) / (R * T))) - (N[-2] * np.exp((-alpha * F * OV) / (R * T))))\n",
    "                    RO2 = -abs(iloc) / (F * 4)\n",
    "                    N[-1] = (RO2 * h) + N[-2]\n",
    "                    concO2 = np.append(concO2, N[-1])\n",
    "\n",
    "                    ROH = 4 * abs(iloc) / (F * 4)\n",
    "                    concOH = np.append(concOH, (ROH * h) + concOH[-1])\n",
    "\n",
    "                C[:] = N\n",
    "            L = np.append(L, N[-1])\n",
    "        g=np.append(g, L)\n",
    "    q=np.append(q, g)\n",
    "    return q[-1]\n",
    "\n"
   ]
  },
  {
   "cell_type": "code",
   "execution_count": 2,
   "id": "6aec76d7",
   "metadata": {},
   "outputs": [],
   "source": [
    "def FD_Diff(L, tfinal, sat, i0,T,OV):\n",
    "    alpha = 2\n",
    "    F = 96485\n",
    "    R = 8.314\n",
    "    O2_limit = 1e-20\n",
    "    CO20 = 0.26  # mol/m3\n",
    "    COH0 = 1e-4  # mol/m3\n",
    "    concO2 = np.array([0.26])\n",
    "    concOH = np.array([1e-4])\n",
    "    BC1 = CO20  # Boundary condition 1, in the bulk\n",
    "\n",
    "    # Diffusion\n",
    "    N = 20  # number of points to discretize\n",
    "    X = np.linspace(0, L, N)  # position along the rod\n",
    "    h = L / (N - 1)  # discretization spacing\n",
    "\n",
    "    D = 2.9 * 1e-9  # Diffusivity\n",
    "    Ntsteps = tfinal\n",
    "    dt = tfinal / Ntsteps\n",
    "    t = np.arange(0, tfinal, dt)\n",
    "    alpha = D * dt / h**2\n",
    "    C = np.zeros((t.shape[0],X.shape[0]))\n",
    "    K= np.zeros((t.shape[0],X.shape[0]))\n",
    "    pH0=14+np.log(COH0)\n",
    "    pHChange = np.array([0])\n",
    "    C[:,0] = BC1\n",
    "    K[:,0] = BC1\n",
    "    for j in range(1,t.shape[0]):\n",
    "        N = np.zeros(X.shape)\n",
    "        N[0] = BC1\n",
    "        N[1:-1] = alpha * C[j-1,2:] +(1-2*alpha)* C[j-1,1:-1] + alpha * C[j-1,0:-2]\n",
    "\n",
    "\n",
    "        if N[-2] < sat:\n",
    "            N[-1] = N[-2]\n",
    "            concOH = np.append(concOH, concOH[-1])\n",
    "            concO2 = np.append(concO2, N[-1])\n",
    "        else:\n",
    "            iloc = i0 * ((concOH[-1] * np.exp((alpha * F * OV) / (R * T))) - (N[-2] * np.exp((-alpha * F * OV) / (R * T))))\n",
    "            RO2 = -abs(iloc) / (F * 4)\n",
    "            N[-1] = (RO2 * h) + N[-2]\n",
    "            concO2 = np.append(concO2, N[-1])\n",
    "\n",
    "            ROH = 4 * abs(iloc) / (F * 4)\n",
    "            concOH = np.append(concOH, (ROH * h) + concOH[-1])\n",
    "        pH = 14 + np.log(concOH[-1])\n",
    "        pH0=14+np.log(COH0)\n",
    "        Change=pH-pH0\n",
    "        pHChange = np.append(pHChange, Change)\n",
    "        C[j,:]= N\n",
    "        K[j,:]= N\n",
    "    return pHChange\n"
   ]
  },
  {
   "cell_type": "code",
   "execution_count": 14,
   "id": "a1b44a85",
   "metadata": {},
   "outputs": [
    {
     "name": "stdout",
     "output_type": "stream",
     "text": [
      "(54000,)\n",
      "[0.         6.90775528 6.90775528 ... 7.79424147 7.79425834 7.79427521]\n"
     ]
    }
   ],
   "source": [
    "a=FD_Diff(L=0.01,tfinal=54000,sat=0.15,i0=1.55,T=283,OV=-1.5)\n",
    "print(a.shape)\n",
    "print(a)\n",
    "# print(a[-1,:].shape)\n",
    "#print(a[-1,:])\n"
   ]
  },
  {
   "cell_type": "code",
   "execution_count": 3,
   "id": "82ec77b1",
   "metadata": {},
   "outputs": [],
   "source": [
    "def BV_Diff_Sens(L, tfinal, sat, i0, T, OV):\n",
    "#     G=[]\n",
    "#     Q=[]\n",
    "#     P=[]\n",
    "#     F=[]\n",
    "#     W=[]\n",
    "    A=[]\n",
    "    for i in range(len(L)):\n",
    "        l1 = L[i]\n",
    "        t1 = tfinal[i]\n",
    "        s1 = sat[i]\n",
    "        i01 = i0[i]\n",
    "        T1 = T[i]\n",
    "        OV1 = OV[i]\n",
    "    \n",
    "        Cst = FD_Diff(l1,t1,s1,i01,T1,OV1)\n",
    "        A=np.append(A, Cst[-1])\n",
    "                        #W=np.append(W, A[-1])\n",
    "                    #F = np.append(F, W[-1])\n",
    "                #P=np.append(P, F[-1])\n",
    "            #Q=np.append(F, P[-1])\n",
    "        #G=np.append(G, Q[-1])\n",
    "    \n",
    "    return A\n",
    "\n"
   ]
  },
  {
   "cell_type": "code",
   "execution_count": 5,
   "id": "f4e225b7",
   "metadata": {},
   "outputs": [
    {
     "name": "stdout",
     "output_type": "stream",
     "text": [
      "[0.88651993 0.        ]\n"
     ]
    }
   ],
   "source": [
    "b=BV_Diff_Sens(L=np.array([0.01, 0.02]), tfinal=np.array([54000, 54000]), sat=np.array([0.15,0.15]), i0=np.array([1.55, 2.14]), T=np.array([283, 313]), OV=np.array([-1.5, -0.096]))\n",
    "print(b)\n",
    "\n"
   ]
  },
  {
   "cell_type": "markdown",
   "id": "bf4c0d2a",
   "metadata": {},
   "source": [
    "# Sensitivity Analysis"
   ]
  },
  {
   "cell_type": "code",
   "execution_count": 4,
   "id": "e17a1f07",
   "metadata": {},
   "outputs": [],
   "source": [
    "from SALib.sample import morris as ms\n",
    "from SALib.analyze import morris as ma\n",
    "from SALib.plotting import morris as mp"
   ]
  },
  {
   "cell_type": "markdown",
   "id": "091b51e8",
   "metadata": {},
   "source": [
    "### Define a problem file"
   ]
  },
  {
   "cell_type": "code",
   "execution_count": 5,
   "id": "772225a7",
   "metadata": {},
   "outputs": [],
   "source": [
    "morris_problem = {\n",
    "    # There are six variables\n",
    "    'num_vars': 6,\n",
    "    # These are their names\n",
    "    'names': ['L', 'tfinal', 'sat', 'i0', 'T', 'OV'],\n",
    "    # These are their plausible ranges over which we'll move the variables\n",
    "    'bounds': [[0.005, 0.05], # 'Double layer', 'm'\n",
    "               [21600, 54000], # 'time duration','sec'\n",
    "               [0.1, 0.2], # saturation degree', 'mol/m3'z\n",
    "               [1.55, 3.55], #'exchange current density', 'A'\n",
    "               [283, 313], # 'Temperature', 'K'\n",
    "               [-0.1, -0.02], # 'over potential', 'v''\n",
    "              ],\n",
    "    # I don't want to group any of these variables together\n",
    "     'groups': None\n",
    "    }"
   ]
  },
  {
   "cell_type": "code",
   "execution_count": 6,
   "id": "07c7d28c",
   "metadata": {},
   "outputs": [
    {
     "data": {
      "text/plain": [
       "{'num_vars': 6,\n",
       " 'names': ['L', 'tfinal', 'sat', 'i0', 'T', 'OV'],\n",
       " 'bounds': [[0.005, 0.05],\n",
       "  [21600, 54000],\n",
       "  [0.1, 0.2],\n",
       "  [1.55, 3.55],\n",
       "  [283, 313],\n",
       "  [-0.1, -0.02]],\n",
       " 'groups': None}"
      ]
     },
     "execution_count": 6,
     "metadata": {},
     "output_type": "execute_result"
    }
   ],
   "source": [
    "morris_problem"
   ]
  },
  {
   "cell_type": "markdown",
   "id": "a0034806",
   "metadata": {},
   "source": [
    "# Generate a Sample"
   ]
  },
  {
   "cell_type": "code",
   "execution_count": 7,
   "id": "2eb29b1b",
   "metadata": {},
   "outputs": [
    {
     "data": {
      "text/plain": [
       "(70, 6)"
      ]
     },
     "execution_count": 7,
     "metadata": {},
     "output_type": "execute_result"
    }
   ],
   "source": [
    "num_levels = 2\n",
    "trajectories = int(1e01)\n",
    "sample = ms.sample(morris_problem, trajectories, num_levels=num_levels)\n",
    "sample.shape"
   ]
  },
  {
   "cell_type": "code",
   "execution_count": 12,
   "id": "1c924526",
   "metadata": {},
   "outputs": [
    {
     "name": "stdout",
     "output_type": "stream",
     "text": [
      "(6, 70)\n"
     ]
    }
   ],
   "source": [
    "print(sample.T.shape)\n",
    "#print(sample.T)\n"
   ]
  },
  {
   "cell_type": "markdown",
   "id": "75a10e0a",
   "metadata": {},
   "source": [
    "### Factor Prioritisation\n",
    "\n",
    "We'll run a sensitivity analysis of the power module to see which is the most influential parameter.\n",
    "\n",
    "The results parameters are called **mu**, **sigma** and **mu_star**.\n",
    "\n",
    "* **Mu** is the mean effect caused by the input parameter being moved over its range.\n",
    "* **Sigma** is the standard deviation of the mean effect.\n",
    "* **Mu_star** is the mean absolute effect."
   ]
  },
  {
   "cell_type": "code",
   "execution_count": 8,
   "id": "a083a679",
   "metadata": {},
   "outputs": [
    {
     "name": "stdout",
     "output_type": "stream",
     "text": [
      "(70,)\n",
      "[0.90849163 0.         0.         0.         0.         0.\n",
      " 0.         0.         0.         0.         0.         0.\n",
      " 0.         0.36844606 0.90849163 0.         0.         0.\n",
      " 0.         0.         0.         0.         0.         0.1588118\n",
      " 0.33231223 0.80417377 0.8268614  0.82871647 0.         0.\n",
      " 0.         0.         0.15929624 0.43243606 0.44691279 0.\n",
      " 0.87476585 0.47660635 0.48288222 0.43243606 0.15929624 0.17827946\n",
      " 0.         0.         0.         0.         0.         0.\n",
      " 0.37416348 0.         0.         0.         0.4084302  0.41398316\n",
      " 0.20206006 0.49866608 0.87476585 0.80417377 0.80599571 0.33324482\n",
      " 0.         0.         0.         0.         0.         0.\n",
      " 0.1807654  0.15929624 0.1588118  0.33231223]\n"
     ]
    }
   ],
   "source": [
    "# Run the sample through the power model\n",
    "output = (BV_Diff_Sens(*sample.T))\n",
    "print(output.shape)\n",
    "print(output)"
   ]
  },
  {
   "cell_type": "code",
   "execution_count": 9,
   "id": "7baaaf45",
   "metadata": {},
   "outputs": [
    {
     "name": "stdout",
     "output_type": "stream",
     "text": [
      "Name                      mu mu_star   sigma\n",
      "L                    -  0.47    0.47    0.31\n",
      "tfinal                  0.18    0.18    0.20\n",
      "sat                  -  0.01    0.01    0.01\n",
      "i0                      0.10    0.10    0.14\n",
      "T                    -  0.00    0.00    0.00\n",
      "OV                   -  0.01    0.01    0.03\n"
     ]
    }
   ],
   "source": [
    "# Store the results for plotting of the analysis\n",
    "Si = ma.analyze(morris_problem, \n",
    "                sample, \n",
    "                output, \n",
    "                print_to_console=False, \n",
    "                num_levels=num_levels)\n",
    "print(\"{:20s} {:>7s} {:>7s} {:>7s}\".format(\"Name\", \"mu\", \"mu_star\", \"sigma\"))\n",
    "for name, s1, st, mean in zip(morris_problem['names'], Si['mu'], Si['mu_star'], Si['sigma']):\n",
    "    print(\"{:20s} {:=7.2f} {:=7.2f} {:=7.2f}\".format(name, s1, st, mean))"
   ]
  },
  {
   "cell_type": "code",
   "execution_count": 12,
   "id": "79dbc81c",
   "metadata": {},
   "outputs": [
    {
     "data": {
      "image/png": "[encoded data removed]",
      "text/plain": [
       "<Figure size 1200x1000 with 2 Axes>"
      ]
     },
     "metadata": {},
     "output_type": "display_data"
    }
   ],
   "source": [
    "fig, (ax1, ax2) = plt.subplots(1,2)\n",
    "mp.horizontal_bar_plot(ax1, Si) #  param_dict={}\n",
    "mp.covariance_plot(ax2, Si, {})\n",
    "plt.subplots_adjust(wspace=0.3)"
   ]
  },
  {
   "cell_type": "code",
   "execution_count": null,
   "id": "98fb695e",
   "metadata": {},
   "outputs": [],
   "source": []
  }
 ],
 "metadata": {
  "kernelspec": {
   "display_name": "Python 3 (ipykernel)",
   "language": "python",
   "name": "python3"
  },
  "language_info": {
   "codemirror_mode": {
    "name": "ipython",
    "version": 3
   },
   "file_extension": ".py",
   "mimetype": "text/x-python",
   "name": "python",
   "nbconvert_exporter": "python",
   "pygments_lexer": "ipython3",
   "version": "3.11.4"
  }
 },
 "nbformat": 4,
 "nbformat_minor": 5
}
