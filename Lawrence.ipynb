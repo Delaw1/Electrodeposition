{
 "cells": [
  {
   "cell_type": "code",
   "execution_count": 4,
   "id": "414489ae",
   "metadata": {},
   "outputs": [],
   "source": [
    "import seaborn as sns\n",
    "import pandas as pd\n",
    "import matplotlib.pyplot as plt\n",
    "import numpy as np"
   ]
  },
  {
   "cell_type": "code",
   "execution_count": 120,
   "id": "df222cb2",
   "metadata": {},
   "outputs": [],
   "source": [
    "# i0 = 1.2 * (10**-3)\n",
    "i0 = 2.55\n",
    "alpha = 2\n",
    "F = 96485\n",
    "R = 8.314\n",
    "T = 298.15\n",
    "\n",
    "# OV = -0.0254\n",
    "#Ciref = 10**-3\n",
    "CO = 0.26 #mol/m3\n",
    "CR = (10**-4)\n",
    "# Ciref = 1 \n",
    "# Eeq = 0.203 - ((R*T)/(n*F))*np.log(CR/CO)\n",
    "Eeq = 0.203 \n",
    "# Ect = np.array([-1.1,-0.9,-0.7,-0.5,-0.3,-0.1,0.1,0.3,0.5,0.7,0.9,1.1])\n",
    "Ect = -1.1 + 1.1553\n",
    "OV = -0.075\n",
    "# OV = Ect-Eeq\n",
    "CO\n",
    "# (alpha*F*OV)/(R*T)\n",
    "#Ciref\n",
    "step = 2*60 #2 minutes\n",
    "time_step = np.arange(0,0.5*60*60,step)\n",
    "# time_step\n",
    "concO2 = np.array([0.26])\n",
    "concOH = np.array([10**-4])\n",
    "O2_limit = 10**-20"
   ]
  },
  {
   "cell_type": "code",
   "execution_count": 121,
   "id": "6449e6f2",
   "metadata": {},
   "outputs": [],
   "source": [
    "for i,t in enumerate(time_step):\n",
    "    if i == len(time_step) - 1:\n",
    "        break\n",
    "    \n",
    "    # Make this a function\n",
    "    iloc = i0*((concOH[i]*np.exp((alpha*F*OV)/(R*T))) - (concO2[i]*np.exp((-(alpha)*F*OV)/(R*T))))\n",
    "    RO2 = -1*abs(iloc)/(F*4) #Rate of O2 consumption\n",
    "    ROH = 4*abs(iloc)/(F*4) #Rate of OH production\n",
    "\n",
    "    #Concentration of oxygen\n",
    "    new_concO2 = (RO2*step) + concO2[i]\n",
    "    if new_concO2 <= O2_limit:\n",
    "        concO2 = np.append(concO2, O2_limit)\n",
    "        new_concOH = max(concOH) #Calculate the New conc of OH based on O2_limit\n",
    "        concOH = np.append(concOH, new_concOH)\n",
    "    else:\n",
    "        concO2 = np.append(concO2, new_concO2)\n",
    "\n",
    "        #Concentration of hydroxide\n",
    "        new_concOH = (ROH*step) + concOH[i]\n",
    "        concOH = np.append(concOH, new_concOH)\n",
    "    "
   ]
  },
  {
   "cell_type": "code",
   "execution_count": 123,
   "id": "1d6f3d01",
   "metadata": {},
   "outputs": [
    {
     "data": {
      "text/plain": [
       "array([1.00000000e-04, 2.83168900e-01, 4.89189029e-01, 6.39132359e-01,\n",
       "       7.48262483e-01, 8.27688383e-01, 8.85495277e-01, 9.27567663e-01,\n",
       "       9.58188329e-01, 9.80474329e-01, 9.96694284e-01, 1.00849931e+00,\n",
       "       1.01709112e+00, 1.02334432e+00, 1.02789545e+00])"
      ]
     },
     "execution_count": 123,
     "metadata": {},
     "output_type": "execute_result"
    }
   ],
   "source": [
    "\n",
    "concOH\n"
   ]
  },
  {
   "cell_type": "code",
   "execution_count": 64,
   "id": "30be514b",
   "metadata": {},
   "outputs": [
    {
     "data": {
      "text/plain": [
       "-2.36703157908976"
      ]
     },
     "execution_count": 64,
     "metadata": {},
     "output_type": "execute_result"
    }
   ],
   "source": [
    "iloc = i0*((CR*np.exp((alpha*F*OV)/(R*T))) - (CO*np.exp((-(alpha)*F*OV)/(R*T))))\n",
    "iloc = iloc*0.0104\n",
    "iloc"
   ]
  },
  {
   "cell_type": "code",
   "execution_count": 65,
   "id": "2a895752",
   "metadata": {},
   "outputs": [
    {
     "data": {
      "text/plain": [
       "[<matplotlib.lines.Line2D at 0x16a176110>]"
      ]
     },
     "execution_count": 65,
     "metadata": {},
     "output_type": "execute_result"
    },
    {
     "data": {
      "image/png": "[encoded data removed]",
      "text/plain": [
       "<Figure size 640x480 with 1 Axes>"
      ]
     },
     "metadata": {},
     "output_type": "display_data"
    }
   ],
   "source": [
    "plt.plot(Ect,iloc)"
   ]
  },
  {
   "cell_type": "code",
   "execution_count": 61,
   "id": "e73e3467",
   "metadata": {},
   "outputs": [
    {
     "data": {
      "text/plain": [
       "-0.0005897268754135159"
      ]
     },
     "execution_count": 61,
     "metadata": {},
     "output_type": "execute_result"
    }
   ],
   "source": [
    "Rate = -1*abs(iloc)/(F*4)\n",
    "Rate"
   ]
  },
  {
   "cell_type": "code",
   "execution_count": 63,
   "id": "b7e7acb7",
   "metadata": {},
   "outputs": [
    {
     "data": {
      "text/plain": [
       "0.2010273124586484"
      ]
     },
     "execution_count": 63,
     "metadata": {},
     "output_type": "execute_result"
    }
   ],
   "source": [
    "Cii = (Rate*100) + CO\n",
    "Cii"
   ]
  },
  {
   "cell_type": "code",
   "execution_count": 46,
   "id": "3ab1df2e",
   "metadata": {},
   "outputs": [
    {
     "data": {
      "text/plain": [
       "0.17673499372385626"
      ]
     },
     "execution_count": 46,
     "metadata": {},
     "output_type": "execute_result"
    }
   ],
   "source": [
    "RateOH = 4*abs(iloc)/(F*4)\n",
    "\n",
    "COHi = (RateOH*7200) + CR\n",
    "COHi"
   ]
  },
  {
   "cell_type": "code",
   "execution_count": 115,
   "id": "b8601e9a",
   "metadata": {},
   "outputs": [
    {
     "data": {
      "text/plain": [
       "-4083.382860701368"
      ]
     },
     "execution_count": 115,
     "metadata": {},
     "output_type": "execute_result"
    }
   ],
   "source": [
    "iloc"
   ]
  },
  {
   "cell_type": "code",
   "execution_count": null,
   "id": "863bddbf",
   "metadata": {},
   "outputs": [],
   "source": []
  }
 ],
 "metadata": {
  "kernelspec": {
   "display_name": "Python 3 (ipykernel)",
   "language": "python",
   "name": "python3"
  },
  "language_info": {
   "codemirror_mode": {
    "name": "ipython",
    "version": 3
   },
   "file_extension": ".py",
   "mimetype": "text/x-python",
   "name": "python",
   "nbconvert_exporter": "python",
   "pygments_lexer": "ipython3",
   "version": "3.11.4"
  }
 },
 "nbformat": 4,
 "nbformat_minor": 5
}
