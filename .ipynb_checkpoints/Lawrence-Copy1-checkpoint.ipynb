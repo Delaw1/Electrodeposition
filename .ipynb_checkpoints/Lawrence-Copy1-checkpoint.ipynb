{
 "cells": [
  {
   "cell_type": "code",
   "execution_count": 4,
   "id": "414489ae",
   "metadata": {},
   "outputs": [],
   "source": [
    "import seaborn as sns\n",
    "import pandas as pd\n",
    "import matplotlib.pyplot as plt\n",
    "import numpy as np"
   ]
  },
  {
   "cell_type": "code",
   "execution_count": 20,
   "id": "df222cb2",
   "metadata": {},
   "outputs": [
    {
     "data": {
      "text/plain": [
       "0.26"
      ]
     },
     "execution_count": 20,
     "metadata": {},
     "output_type": "execute_result"
    }
   ],
   "source": [
    "# i0 = 1.2 * (10**-3)\n",
    "i0 = 2.55\n",
    "alpha = 2\n",
    "F = 96485\n",
    "R = 8.314\n",
    "T = 298.15\n",
    "\n",
    "# OV = -0.0254\n",
    "#Ciref = 10**-3\n",
    "CO = 0.26 #mol/m3\n",
    "CR = (10**-4)\n",
    "# Ciref = 1 \n",
    "# Eeq = 0.203 - ((R*T)/(n*F))*np.log(CR/CO)\n",
    "Eeq = 0.203 \n",
    "# Ect = np.array([-1.1,-0.9,-0.7,-0.5,-0.3,-0.1,0.1,0.3,0.5,0.7,0.9,1.1])\n",
    "Ect = -1.1 + 1.1553\n",
    "OV = -0.075\n",
    "# OV = Ect-Eeq\n",
    "CO\n",
    "# (alpha*F*OV)/(R*T)\n",
    "#Ciref\n"
   ]
  },
  {
   "cell_type": "code",
   "execution_count": 21,
   "id": "30be514b",
   "metadata": {},
   "outputs": [
    {
     "data": {
      "text/plain": [
       "-2.36703157908976"
      ]
     },
     "execution_count": 21,
     "metadata": {},
     "output_type": "execute_result"
    }
   ],
   "source": [
    "iloc = i0*((CR*np.exp((alpha*F*OV)/(R*T))) - (CO*np.exp((-(alpha)*F*OV)/(R*T))))\n",
    "iloc = iloc*0.0104\n",
    "iloc"
   ]
  },
  {
   "cell_type": "code",
   "execution_count": 109,
   "id": "2a895752",
   "metadata": {},
   "outputs": [
    {
     "data": {
      "text/plain": [
       "[<matplotlib.lines.Line2D at 0x7fba4002d8e0>]"
      ]
     },
     "execution_count": 109,
     "metadata": {},
     "output_type": "execute_result"
    },
    {
     "data": {
      "image/png": "[encoded data removed]",
      "text/plain": [
       "<Figure size 432x288 with 1 Axes>"
      ]
     },
     "metadata": {
      "needs_background": "light"
     },
     "output_type": "display_data"
    }
   ],
   "source": [
    "plt.plot(Ect,iloc)"
   ]
  },
  {
   "cell_type": "code",
   "execution_count": 32,
   "id": "e73e3467",
   "metadata": {},
   "outputs": [
    {
     "data": {
      "text/plain": [
       "-6.133159504300565e-06"
      ]
     },
     "execution_count": 32,
     "metadata": {},
     "output_type": "execute_result"
    }
   ],
   "source": [
    "Rate = -1*abs(iloc)/(F*4)\n",
    "Rate"
   ]
  },
  {
   "cell_type": "code",
   "execution_count": 34,
   "id": "b7e7acb7",
   "metadata": {},
   "outputs": [
    {
     "data": {
      "text/plain": [
       "0.259999938668405"
      ]
     },
     "execution_count": 34,
     "metadata": {},
     "output_type": "execute_result"
    }
   ],
   "source": [
    "Cii = (Rate*0.01) + CO\n",
    "Cii"
   ]
  },
  {
   "cell_type": "code",
   "execution_count": 35,
   "id": "3ab1df2e",
   "metadata": {},
   "outputs": [
    {
     "data": {
      "text/plain": [
       "0.00010024532638017202"
      ]
     },
     "execution_count": 35,
     "metadata": {},
     "output_type": "execute_result"
    }
   ],
   "source": [
    "RateOH = 4*abs(iloc)/(F*4)\n",
    "\n",
    "COHi = (RateOH*0.01) + CR\n",
    "COHi"
   ]
  },
  {
   "cell_type": "code",
   "execution_count": 115,
   "id": "b8601e9a",
   "metadata": {},
   "outputs": [
    {
     "data": {
      "text/plain": [
       "-4083.382860701368"
      ]
     },
     "execution_count": 115,
     "metadata": {},
     "output_type": "execute_result"
    }
   ],
   "source": [
    "iloc"
   ]
  },
  {
   "cell_type": "code",
   "execution_count": null,
   "id": "863bddbf",
   "metadata": {},
   "outputs": [],
   "source": []
  }
 ],
 "metadata": {
  "kernelspec": {
   "display_name": "Python 3 (ipykernel)",
   "language": "python",
   "name": "python3"
  },
  "language_info": {
   "codemirror_mode": {
    "name": "ipython",
    "version": 3
   },
   "file_extension": ".py",
   "mimetype": "text/x-python",
   "name": "python",
   "nbconvert_exporter": "python",
   "pygments_lexer": "ipython3",
   "version": "3.11.4"
  }
 },
 "nbformat": 4,
 "nbformat_minor": 5
}
