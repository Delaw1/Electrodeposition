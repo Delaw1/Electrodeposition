{
 "cells": [
  {
   "cell_type": "code",
   "execution_count": 1,
   "id": "414489ae",
   "metadata": {},
   "outputs": [],
   "source": [
    "import seaborn as sns\n",
    "import pandas as pd\n",
    "import matplotlib.pyplot as plt\n",
    "import numpy as np"
   ]
  },
  {
   "cell_type": "code",
   "execution_count": 2,
   "id": "df222cb2",
   "metadata": {},
   "outputs": [],
   "source": [
    "# i0 = 1.2 * (10**-3)\n",
    "i0 = 2.55\n",
    "alpha = 2\n",
    "F = 96485\n",
    "R = 8.314\n",
    "T = 298\n",
    "\n",
    "\n",
    "#Ciref = 10**-3\n",
    "CO = 0.26 #mol/m3\n",
    "CR = (10**-4)\n",
    "\n",
    "# Eeq = 0.203 - ((R*T)/(n*F))*np.log(CR/CO)\n",
    "Eeq = 0.203 \n",
    "# Ect = np.array([-1.1,-0.9,-0.7,-0.5,-0.3,-0.1,0.1,0.3,0.5,0.7,0.9,1.1])\n",
    "Ect = -1.1\n",
    "OV = -0.075\n",
    "# OV = Ect-Eeq\n",
    "\n",
    "step = 10 #2 minutes\n",
    "time_step = np.arange(0,60.001*60,step)\n",
    "\n",
    "concO2 = np.array([0.26])\n",
    "concOH = np.array([10**-4])\n",
    "\n",
    "current = np.array([0])\n",
    "O2_limit = 10**-20\n"
   ]
  },
  {
   "cell_type": "code",
   "execution_count": 3,
   "id": "6449e6f2",
   "metadata": {},
   "outputs": [],
   "source": [
    "for i,t in enumerate(time_step):\n",
    "    if i == len(time_step) - 1:\n",
    "        break\n",
    "    \n",
    "    # Make this a function\n",
    "    iloc = i0*((concOH[i]*np.exp((alpha*F*OV)/(R*T))) - (concO2[i]*np.exp((-(alpha)*F*OV)/(R*T))))\n",
    "    RO2 = -1*abs(iloc)/(F*4) #Rate of O2 consumption\n",
    "    ROH = 4*abs(iloc)/(F*4) #Rate of OH production\n",
    "    newCurrent = iloc*0.0104\n",
    "    current = np.append(current, newCurrent)\n",
    "    #Concentration of oxygen\n",
    "    new_concO2 = (RO2*step) + concO2[i] #Nerst equation to calculate new concentration\n",
    "    if new_concO2 <= O2_limit:\n",
    "        concO2 = np.append(concO2, min(concO2))\n",
    "        \n",
    "        #Calculate the New conc of OH based on O2_limit\n",
    "        concOH = np.append(concOH, max(concOH))\n",
    "    else:\n",
    "        concO2 = np.append(concO2, new_concO2)\n",
    "        #Concentration of hydroxide\n",
    "        new_concOH = (ROH*step) + concOH[i]\n",
    "        concOH = np.append(concOH, new_concOH)\n",
    "    "
   ]
  },
  {
   "cell_type": "code",
   "execution_count": 4,
   "id": "2a895752",
   "metadata": {},
   "outputs": [
    {
     "data": {
      "text/plain": [
       "[<matplotlib.lines.Line2D at 0x7fb9bae18eb0>]"
      ]
     },
     "execution_count": 4,
     "metadata": {},
     "output_type": "execute_result"
    },
    {
     "data": {
      "image/png": "[encoded data removed]",
      "text/plain": [
       "<Figure size 432x288 with 1 Axes>"
      ]
     },
     "metadata": {
      "needs_background": "light"
     },
     "output_type": "display_data"
    }
   ],
   "source": [
    "plt.plot(time_step[1:],current[1:])"
   ]
  },
  {
   "cell_type": "code",
   "execution_count": 5,
   "id": "0fcfeb01",
   "metadata": {},
   "outputs": [
    {
     "data": {
      "text/plain": [
       "[<matplotlib.lines.Line2D at 0x7fb9e9192850>,\n",
       " <matplotlib.lines.Line2D at 0x7fb9e9192880>]"
      ]
     },
     "execution_count": 5,
     "metadata": {},
     "output_type": "execute_result"
    },
    {
     "data": {
      "image/png": "[encoded data removed]",
      "text/plain": [
       "<Figure size 432x288 with 1 Axes>"
      ]
     },
     "metadata": {
      "needs_background": "light"
     },
     "output_type": "display_data"
    }
   ],
   "source": [
    "plt.plot(time_step,concO2,time_step,concOH)"
   ]
  },
  {
   "cell_type": "code",
   "execution_count": null,
   "id": "6c2c4e26",
   "metadata": {},
   "outputs": [],
   "source": [
    "DO2= 2.9e-9 #m2/s\n",
    "step_x = 10 #2 minutes\n",
    "x_step = np.arange(0,60.001*60,step_x)\n",
    "for i,t in enumerate(time_step):\n",
    "    for j,x in enumerate(x_step):\n",
    "        cO2[i,j]= R(x_step)**2/DO2 + cO2[i,j-1]\n",
    "        \n",
    "        \n",
    "    "
   ]
  }
 ],
 "metadata": {
  "kernelspec": {
   "display_name": "Python 3 (ipykernel)",
   "language": "python",
   "name": "python3"
  },
  "language_info": {
   "codemirror_mode": {
    "name": "ipython",
    "version": 3
   },
   "file_extension": ".py",
   "mimetype": "text/x-python",
   "name": "python",
   "nbconvert_exporter": "python",
   "pygments_lexer": "ipython3",
   "version": "3.9.7"
  }
 },
 "nbformat": 4,
 "nbformat_minor": 5
}
