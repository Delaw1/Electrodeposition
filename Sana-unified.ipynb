{
 "cells": [
  {
   "cell_type": "code",
   "execution_count": 1,
   "id": "414489ae",
   "metadata": {},
   "outputs": [],
   "source": [
    "from ipywidgets import widgets, interact, fixed\n",
    "from IPython.display import display\n",
    "%matplotlib inline\n",
    "import seaborn as sbn\n",
    "import pandas as pd\n",
    "import matplotlib.pyplot as plt\n",
    "import numpy as np\n",
    "from scipy.integrate import solve_ivp\n",
    "from IPython.core.pylabtools import figsize\n",
    "import scipy\n",
    "import scipy.interpolate\n",
    "from contextlib import redirect_stdout\n",
    "from CoolProp import CoolProp\n",
    "figsize(12, 10)\n",
    "sbn.set_context(\"talk\", font_scale=1)"
   ]
  },
  {
   "cell_type": "code",
   "execution_count": 2,
   "id": "ed252866",
   "metadata": {},
   "outputs": [
    {
     "name": "stdout",
     "output_type": "stream",
     "text": [
      "Requirement already satisfied: coolprop in /Users/sanaheydarian/anaconda3/lib/python3.11/site-packages (6.5.0.post1)\n",
      "Note: you may need to restart the kernel to use updated packages.\n"
     ]
    }
   ],
   "source": [
    "pip install coolprop"
   ]
  },
  {
   "cell_type": "markdown",
   "id": "180ff54a",
   "metadata": {},
   "source": [
    "# Defining the function for the sensetivity analysis"
   ]
  },
  {
   "cell_type": "code",
   "execution_count": 45,
   "id": "a8e6cea5",
   "metadata": {
    "scrolled": true
   },
   "outputs": [
    {
     "data": {
      "application/vnd.jupyter.widget-view+json": {
       "model_id": "6f31c6adf4c14ed0aee608805a79b362",
       "version_major": 2,
       "version_minor": 0
      },
      "text/plain": [
       "interactive(children=(FloatSlider(value=0.01, description='L', max=0.03, min=-0.01), IntSlider(value=21600, de…"
      ]
     },
     "metadata": {},
     "output_type": "display_data"
    }
   ],
   "source": [
    "@interact\n",
    "def BV_Diff( L = 0.01, #...\n",
    "                  tfinal = 21600, # ...\n",
    "                  sat = 0.15,\n",
    "                  i0 = 2.55,\n",
    "                  T = 298., # ...\n",
    "                  OV = -0.075, # ...\n",
    "                 ):\n",
    "    alpha = 2#...\n",
    "    F = 96485#...\n",
    "    R = 8.314#...\n",
    "    current = np.array([0])\n",
    "    O2_limit = 10**-20\n",
    "#     OV = -0.075#\n",
    "    CO20 = 0.26 #mol/m3\n",
    "    COH0 = (10**-4)#mol/m3\n",
    "    concO2 = np.array([0.26])\n",
    "    concOH = np.array([10**-4])\n",
    "    BC1 = CO20 #Boundary condition 1, in the bulk\n",
    "\n",
    "    #   Diffusion\n",
    "    N = 20  # number of points to discretize\n",
    "    #L = 0.01\n",
    "    X = np.linspace(0, L, N)  # position along the rod\n",
    "    h = L / (N - 1)  # discretization spacing\n",
    "\n",
    "\n",
    "    D = 2.9*10**-9  # Diffusivity\n",
    "\n",
    "    #tfinal = 54000 #15 hours\n",
    "    Ntsteps = tfinal\n",
    "    dt = tfinal / (Ntsteps-1)\n",
    "    t = np.linspace(0, tfinal, Ntsteps)\n",
    "    alpha = D * dt / h**2\n",
    "\n",
    "\n",
    "    # initial condition at t = 0\n",
    "    C = np.zeros(X.shape)\n",
    "    C[0] = BC1\n",
    "\n",
    "    current = np.array([])\n",
    "\n",
    "    for j in range(tfinal):\n",
    "        N = np.zeros(C.shape)\n",
    "        N[0] = BC1\n",
    "        N[1:-1] = alpha * C[2:] + (1 - 2 * alpha) * C[1:-1] + alpha * C[0:-2]\n",
    "        if N[-2] < sat: #to give it some time until the solution gets to a degree of saturation\n",
    "            N[-1] = N[-2]  # derivative boundary condition flux = 0\n",
    "            current = np.append(current, 0)\n",
    "            concOH = np.append(concOH, concOH[0])\n",
    "            concO2 = np.append(concO2, N[-1])\n",
    "\n",
    "        else: #after the solution is saturated with O2\n",
    "            #print('Saturated')\n",
    "            iloc = i0*((concOH[j]*np.exp((alpha*F*OV)/(R*T))) - (N[-2]*np.exp((-(alpha)*F*OV)/(R*T)))) #Current density\n",
    "\n",
    "            RO2 = -1*abs(iloc)/(F*4) #Rate of O2 consumption or flux at the surface \n",
    "\n",
    "            N[-1] = (RO2*h) + N[-2]  # derivative boundary condition flux = RO2, BC2\n",
    "            new_concO2 = N[-1]\n",
    "            concO2 = np.append(concO2, new_concO2)\n",
    "\n",
    "            ROH = 4*abs(iloc)/(F*4) #Rate of OH production\n",
    "\n",
    "            new_concOH = (ROH*h) + concOH[j]\n",
    "\n",
    "            concOH = np.append(concOH, new_concOH)\n",
    "\n",
    "            newCurrent = iloc*0.0104\n",
    "\n",
    "            current = np.append(current, newCurrent)\n",
    "\n",
    "        C[:] = N #Crucial for the loop\n",
    "    \n",
    "    return  concO2[-1]"
   ]
  },
  {
   "cell_type": "markdown",
   "id": "8d6b82c0",
   "metadata": {},
   "source": [
    "Let's see the interaction for pH change as well:"
   ]
  },
  {
   "cell_type": "code",
   "execution_count": 56,
   "id": "68ff5033",
   "metadata": {},
   "outputs": [
    {
     "data": {
      "application/vnd.jupyter.widget-view+json": {
       "model_id": "d702ebf3286543f98a409df8c78d854d",
       "version_major": 2,
       "version_minor": 0
      },
      "text/plain": [
       "interactive(children=(FloatSlider(value=0.01, description='L', max=0.03, min=-0.01), IntSlider(value=21600, de…"
      ]
     },
     "metadata": {},
     "output_type": "display_data"
    }
   ],
   "source": [
    "@interact\n",
    "def BV_Diff( L = 0.01, #...\n",
    "                  tfinal = 21600, # ...\n",
    "                  sat = 0.15,\n",
    "                  i0 = 2.55,\n",
    "                  T = 298., # ...\n",
    "                  OV = -0.075, # ...\n",
    "                 ):\n",
    "    alpha = 2#...\n",
    "    F = 96485#...\n",
    "    R = 8.314#...\n",
    "    current = np.array([0])\n",
    "    O2_limit = 10**-20\n",
    "#     OV = -0.075#\n",
    "    CO20 = 0.26 #mol/m3\n",
    "    COH0 = (10**-4)#mol/m3\n",
    "    concO2 = np.array([0.26])\n",
    "    concOH = np.array([10**-4])\n",
    "    BC1 = CO20 #Boundary condition 1, in the bulk\n",
    "\n",
    "    #   Diffusion\n",
    "    N = 20  # number of points to discretize\n",
    "    #L = 0.01\n",
    "    X = np.linspace(0, L, N)  # position along the rod\n",
    "    h = L / (N - 1)  # discretization spacing\n",
    "\n",
    "\n",
    "    D = 2.9*10**-9  # Diffusivity\n",
    "\n",
    "    #tfinal = 54000 #15 hours\n",
    "    Ntsteps = tfinal\n",
    "    dt = tfinal / (Ntsteps-1)\n",
    "    t = np.linspace(0, tfinal, Ntsteps)\n",
    "    alpha = D * dt / h**2\n",
    "\n",
    "\n",
    "    # initial condition at t = 0\n",
    "    C = np.zeros(X.shape)\n",
    "    C[0] = BC1\n",
    "\n",
    "    current = np.array([])\n",
    "\n",
    "    for j in range(tfinal):\n",
    "        N = np.zeros(C.shape)\n",
    "        N[0] = BC1\n",
    "        N[1:-1] = alpha * C[2:] + (1 - 2 * alpha) * C[1:-1] + alpha * C[0:-2]\n",
    "        if N[-2] < sat: #to give it some time until the solution gets to a degree of saturation\n",
    "            N[-1] = N[-2]  # derivative boundary condition flux = 0\n",
    "            current = np.append(current, 0)\n",
    "            concOH = np.append(concOH, concOH[0])\n",
    "            concO2 = np.append(concO2, N[-1])\n",
    "\n",
    "        else: #after the solution is saturated with O2\n",
    "            #print('Saturated')\n",
    "            iloc = i0*((concOH[j]*np.exp((alpha*F*OV)/(R*T))) - (N[-2]*np.exp((-(alpha)*F*OV)/(R*T)))) #Current density\n",
    "\n",
    "            RO2 = -1*abs(iloc)/(F*4) #Rate of O2 consumption or flux at the surface \n",
    "\n",
    "            N[-1] = (RO2*h) + N[-2]  # derivative boundary condition flux = RO2, BC2\n",
    "            new_concO2 = N[-1]\n",
    "            concO2 = np.append(concO2, new_concO2)\n",
    "\n",
    "            ROH = 4*abs(iloc)/(F*4) #Rate of OH production\n",
    "\n",
    "            new_concOH = (ROH*h) + concOH[j]\n",
    "\n",
    "            concOH = np.append(concOH, new_concOH)\n",
    "\n",
    "            newCurrent = iloc*0.0104\n",
    "\n",
    "            current = np.append(current, newCurrent)\n",
    "\n",
    "        C[:] = N #Crucial for the loop\n",
    "     \n",
    "    pH = 14 + np.log(concOH[tfinal] )\n",
    "    pH0=14+np.log(COH0)\n",
    "    pHChange=pH-pH0\n",
    "    return  pHChange"
   ]
  },
  {
   "cell_type": "code",
   "execution_count": 47,
   "id": "46e221c2",
   "metadata": {},
   "outputs": [
    {
     "data": {
      "application/vnd.jupyter.widget-view+json": {
       "model_id": "00379e460f42465f9cd278164a00b732",
       "version_major": 2,
       "version_minor": 0
      },
      "text/plain": [
       "interactive(children=(FloatSlider(value=0.01, description='L', max=0.03, min=-0.01), IntSlider(value=21600, de…"
      ]
     },
     "metadata": {},
     "output_type": "display_data"
    }
   ],
   "source": [
    "@interact\n",
    "def BV_Diff( L = 0.01, #...\n",
    "                  tfinal = 21600, # ...\n",
    "                  sat = 0.15,\n",
    "                  i0 = 2.55,\n",
    "                  T = 298., # ...\n",
    "                  OV = -0.075, # ...\n",
    "                 ):\n",
    "    alpha = 2#...\n",
    "    F = 96485#...\n",
    "    R = 8.314#...\n",
    "    current = np.array([0])\n",
    "    O2_limit = 10**-20\n",
    "#     OV = -0.075#\n",
    "    CO20 = 0.26 #mol/m3\n",
    "    COH0 = (10**-4)#mol/m3\n",
    "    concO2 = np.array([0.26])\n",
    "    concOH = np.array([10**-4])\n",
    "    BC1 = CO20 #Boundary condition 1, in the bulk\n",
    "\n",
    "    #   Diffusion\n",
    "    N = 20  # number of points to discretize\n",
    "    #L = 0.01\n",
    "    X = np.linspace(0, L, N)  # position along the rod\n",
    "    h = L / (N - 1)  # discretization spacing\n",
    "\n",
    "\n",
    "    D = 2.9*10**-9  # Diffusivity\n",
    "\n",
    "    #tfinal = 54000 #15 hours\n",
    "    Ntsteps = tfinal\n",
    "    dt = tfinal / (Ntsteps-1)\n",
    "    t = np.linspace(0, tfinal, Ntsteps)\n",
    "    alpha = D * dt / h**2\n",
    "\n",
    "\n",
    "    # initial condition at t = 0\n",
    "    C = np.zeros(X.shape)\n",
    "    C[0] = BC1\n",
    "\n",
    "    current = np.array([])\n",
    "\n",
    "    for j in range(tfinal):\n",
    "        N = np.zeros(C.shape)\n",
    "        N[0] = BC1\n",
    "        N[1:-1] = alpha * C[2:] + (1 - 2 * alpha) * C[1:-1] + alpha * C[0:-2]\n",
    "        if N[-2] < sat: #to give it some time until the solution gets to a degree of saturation\n",
    "            N[-1] = N[-2]  # derivative boundary condition flux = 0\n",
    "            current = np.append(current, 0)\n",
    "            concOH = np.append(concOH, concOH[0])\n",
    "            concO2 = np.append(concO2, N[-1])\n",
    "\n",
    "        else: #after the solution is saturated with O2\n",
    "            #print('Saturated')\n",
    "            iloc = i0*((concOH[j]*np.exp((alpha*F*OV)/(R*T))) - (N[-2]*np.exp((-(alpha)*F*OV)/(R*T)))) #Current density\n",
    "\n",
    "            RO2 = -1*abs(iloc)/(F*4) #Rate of O2 consumption or flux at the surface \n",
    "\n",
    "            N[-1] = (RO2*h) + N[-2]  # derivative boundary condition flux = RO2, BC2\n",
    "            new_concO2 = N[-1]\n",
    "            concO2 = np.append(concO2, new_concO2)\n",
    "\n",
    "            ROH = 4*abs(iloc)/(F*4) #Rate of OH production\n",
    "\n",
    "            new_concOH = (ROH*h) + concOH[j]\n",
    "\n",
    "            concOH = np.append(concOH, new_concOH)\n",
    "\n",
    "            newCurrent = iloc*0.0104\n",
    "\n",
    "            current = np.append(current, newCurrent)\n",
    "\n",
    "        C[:] = N #Crucial for the loop\n",
    "     \n",
    "    \n",
    "    return  current[-1]"
   ]
  },
  {
   "cell_type": "markdown",
   "id": "bf4c0d2a",
   "metadata": {},
   "source": [
    "# Sensitivity Analysis"
   ]
  },
  {
   "cell_type": "code",
   "execution_count": 59,
   "id": "e17a1f07",
   "metadata": {},
   "outputs": [],
   "source": [
    "from SALib.sample import morris as ms\n",
    "from SALib.analyze import morris as ma\n",
    "from SALib.plotting import morris as mp"
   ]
  }
 ],
 "metadata": {
  "kernelspec": {
   "display_name": "Python 3 (ipykernel)",
   "language": "python",
   "name": "python3"
  },
  "language_info": {
   "codemirror_mode": {
    "name": "ipython",
    "version": 3
   },
   "file_extension": ".py",
   "mimetype": "text/x-python",
   "name": "python",
   "nbconvert_exporter": "python",
   "pygments_lexer": "ipython3",
   "version": "3.11.4"
  }
 },
 "nbformat": 4,
 "nbformat_minor": 5
}
